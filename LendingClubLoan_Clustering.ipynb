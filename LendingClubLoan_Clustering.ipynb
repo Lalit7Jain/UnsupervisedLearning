{
 "cells": [
  {
   "cell_type": "markdown",
   "metadata": {},
   "source": [
    "## Clustering"
   ]
  },
  {
   "cell_type": "markdown",
   "metadata": {},
   "source": [
    "### R Packages"
   ]
  },
  {
   "cell_type": "code",
   "execution_count": 1,
   "metadata": {
    "collapsed": false
   },
   "outputs": [
    {
     "name": "stderr",
     "output_type": "stream",
     "text": [
      "\n",
      "Attaching package: 'dplyr'\n",
      "\n",
      "The following objects are masked from 'package:stats':\n",
      "\n",
      "    filter, lag\n",
      "\n",
      "The following objects are masked from 'package:base':\n",
      "\n",
      "    intersect, setdiff, setequal, union\n",
      "\n"
     ]
    }
   ],
   "source": [
    "#  Module: Clustering Case Study \n",
    "#  Version 1.1\n",
    "#  Topic : Clustering\n",
    "#  Example source: https://www.kaggle.com/wendykan/lending-club-loan-data\n",
    "#####################################################################\n",
    "#  For support or questions, contact Sri Krishnamurthy at\n",
    "#  sri@quantuniversity.com\n",
    "#  Copyright 2016 QuantUniversity LLC.\n",
    "#####################################################################\n",
    "\n",
    "### R packages\n",
    "## Data wrangling\n",
    "# install.packages(\"dplry\")\n",
    "library(dplyr)\n",
    "\n",
    "## Clustering\n",
    "# install.packages(\"cluster\")\n",
    "library(cluster) # for gower similarity and pam\n",
    "\n",
    "## Visualization \n",
    "# install.packages(\"Rtsne\")\n",
    "# install.packages(\"ggplot2\")\n",
    "library(Rtsne) # for t-SNE plot with dimension reduction \n",
    "library(ggplot2) # for visualization"
   ]
  },
  {
   "cell_type": "markdown",
   "metadata": {},
   "source": [
    "### Step 1 Reading data"
   ]
  },
  {
   "cell_type": "code",
   "execution_count": 2,
   "metadata": {
    "collapsed": false
   },
   "outputs": [
    {
     "name": "stdout",
     "output_type": "stream",
     "text": [
      "'data.frame':\t5000 obs. of  16 variables:\n",
      " $ loan_amnt          : int  4425 25000 7000 20000 12000 3000 30000 7200 5600 10000 ...\n",
      " $ term               : Factor w/ 2 levels \" 36 months\",\" 60 months\": 1 2 1 2 2 1 2 1 1 1 ...\n",
      " $ int_rate           : num  8.9 18.25 13.49 11.99 9.99 ...\n",
      " $ installment        : num  141 638 238 445 255 ...\n",
      " $ grade              : Factor w/ 7 levels \"A\",\"B\",\"C\",\"D\",..: 1 4 3 2 2 3 3 1 3 2 ...\n",
      " $ sub_grade          : Factor w/ 35 levels \"A1\",\"A2\",\"A3\",..: 5 20 11 10 6 11 12 1 13 9 ...\n",
      " $ emp_length         : Factor w/ 12 levels \"< 1 year\",\"1 year\",..: 1 9 11 6 3 4 3 3 2 4 ...\n",
      " $ home_ownership     : Factor w/ 3 levels \"MORTGAGE\",\"OWN\",..: 3 1 3 3 1 3 3 1 1 3 ...\n",
      " $ annual_inc         : num  60000 156000 60000 56000 71000 ...\n",
      " $ verification_status: Factor w/ 3 levels \"Not Verified\",..: 2 2 1 3 3 1 3 1 1 2 ...\n",
      " $ issue_d            : Factor w/ 5 levels \"11-Aug\",\"11-Dec\",..: 4 3 4 1 5 4 3 3 2 2 ...\n",
      " $ purpose            : Factor w/ 13 levels \"car\",\"credit_card\",..: 3 5 3 8 4 9 3 12 3 3 ...\n",
      " $ addr_state         : Factor w/ 45 levels \"AK\",\"AL\",\"AR\",..: 42 5 5 5 21 40 33 21 4 42 ...\n",
      " $ dti                : num  2.94 5.85 8.36 29.51 23.78 ...\n",
      " $ delinq_2yrs        : int  0 0 0 0 0 0 0 0 1 0 ...\n",
      " $ inq_last_6mths     : int  1 0 2 3 1 2 1 3 3 1 ...\n"
     ]
    }
   ],
   "source": [
    "### Step 1 Reading data\n",
    "LendingClubLoan <- read.csv(\"LendingClubLoan.csv\")\n",
    "LendingClubLoan_Clustering <- dplyr::select(LendingClubLoan, -loan_status_Binary)\n",
    "\n",
    "# Randomly select 5000 rows\n",
    "set.seed(33)\n",
    "LendingClubLoan_Clustering <- LendingClubLoan_Clustering[sample(1:nrow(LendingClubLoan_Clustering),\n",
    "                                                                5000, replace=FALSE), ]\n",
    "str(LendingClubLoan_Clustering)"
   ]
  },
  {
   "cell_type": "markdown",
   "metadata": {},
   "source": [
    "### Step 2 Calculating distance"
   ]
  },
  {
   "cell_type": "code",
   "execution_count": 3,
   "metadata": {
    "collapsed": false
   },
   "outputs": [
    {
     "data": {
      "text/plain": [
       "12497500 dissimilarities, summarized :\n",
       "     Min.   1st Qu.    Median      Mean   3rd Qu.      Max. \n",
       "0.0059007 0.4306900 0.4982600 0.4944800 0.5623500 0.8589400 \n",
       "Metric :  mixed ;  Types = I, N, I, I, N, N, N, N, I, N, N, N, N, I, I, I \n",
       "Number of objects : 5000"
      ]
     },
     "metadata": {},
     "output_type": "display_data"
    }
   ],
   "source": [
    "### Step 2 Calculating distance\n",
    "gower_dist <- daisy(LendingClubLoan_Clustering, metric = \"gower\")\n",
    "\n",
    "## Step 2-1 Checking attributes to ensure the correct methods are being used\n",
    "# (I = interval, N = nominal)\n",
    "summary(gower_dist)"
   ]
  },
  {
   "cell_type": "markdown",
   "metadata": {},
   "source": [
    "#### Step 2-2 Outputting most similar pair"
   ]
  },
  {
   "cell_type": "code",
   "execution_count": 4,
   "metadata": {
    "collapsed": false
   },
   "outputs": [
    {
     "data": {
      "text/html": [
       "<table>\n",
       "<thead><tr><th></th><th scope=col>loan_amnt</th><th scope=col>term</th><th scope=col>int_rate</th><th scope=col>installment</th><th scope=col>grade</th><th scope=col>sub_grade</th><th scope=col>emp_length</th><th scope=col>home_ownership</th><th scope=col>annual_inc</th><th scope=col>verification_status</th><th scope=col>issue_d</th><th scope=col>purpose</th><th scope=col>addr_state</th><th scope=col>dti</th><th scope=col>delinq_2yrs</th><th scope=col>inq_last_6mths</th></tr></thead>\n",
       "<tbody>\n",
       "\t<tr><th scope=row>4299</th><td>3600        </td><td> 36 months  </td><td>7.9         </td><td>112.65      </td><td>A           </td><td>A4          </td><td>10+ years   </td><td>MORTGAGE    </td><td>90000       </td><td>Not Verified</td><td>11-Oct      </td><td>other       </td><td>NY          </td><td>16.28       </td><td>0           </td><td>0           </td></tr>\n",
       "\t<tr><th scope=row>6067</th><td>3000        </td><td> 36 months  </td><td>7.9         </td><td> 93.88      </td><td>A           </td><td>A4          </td><td>10+ years   </td><td>MORTGAGE    </td><td>87000       </td><td>Not Verified</td><td>11-Oct      </td><td>other       </td><td>NY          </td><td>18.03       </td><td>0           </td><td>0           </td></tr>\n",
       "</tbody>\n",
       "</table>\n"
      ],
      "text/latex": [
       "\\begin{tabular}{r|llllllllllllllll}\n",
       "  & loan\\_amnt & term & int\\_rate & installment & grade & sub\\_grade & emp\\_length & home\\_ownership & annual\\_inc & verification\\_status & issue\\_d & purpose & addr\\_state & dti & delinq\\_2yrs & inq\\_last\\_6mths\\\\\n",
       "\\hline\n",
       "\t4299 & 3600         &  36 months   & 7.9          & 112.65       & A            & A4           & 10+ years    & MORTGAGE     & 90000        & Not Verified & 11-Oct       & other        & NY           & 16.28        & 0            & 0           \\\\\n",
       "\t6067 & 3000         &  36 months   & 7.9          &  93.88       & A            & A4           & 10+ years    & MORTGAGE     & 87000        & Not Verified & 11-Oct       & other        & NY           & 18.03        & 0            & 0           \\\\\n",
       "\\end{tabular}\n"
      ],
      "text/plain": [
       "     loan_amnt term       int_rate installment grade sub_grade emp_length\n",
       "4299 3600       36 months 7.9      112.65      A     A4        10+ years \n",
       "6067 3000       36 months 7.9       93.88      A     A4        10+ years \n",
       "     home_ownership annual_inc verification_status issue_d purpose addr_state\n",
       "4299 MORTGAGE       90000      Not Verified        11-Oct  other   NY        \n",
       "6067 MORTGAGE       87000      Not Verified        11-Oct  other   NY        \n",
       "     dti   delinq_2yrs inq_last_6mths\n",
       "4299 16.28 0           0             \n",
       "6067 18.03 0           0             "
      ]
     },
     "metadata": {},
     "output_type": "display_data"
    }
   ],
   "source": [
    "## Step 2-2 Outputting most similar pair\n",
    "gower_mat <- as.matrix(gower_dist)\n",
    "\n",
    "LendingClubLoan_Clustering[\n",
    "  which(gower_mat == min(gower_mat[gower_mat != min(gower_mat)]),\n",
    "        arr.ind = TRUE)[1, ], ]"
   ]
  },
  {
   "cell_type": "markdown",
   "metadata": {},
   "source": [
    "#### Step 2-3 Outputting most dissimilar pair"
   ]
  },
  {
   "cell_type": "code",
   "execution_count": 5,
   "metadata": {
    "collapsed": false
   },
   "outputs": [
    {
     "data": {
      "text/html": [
       "<table>\n",
       "<thead><tr><th></th><th scope=col>loan_amnt</th><th scope=col>funded_amnt</th><th scope=col>funded_amnt_inv</th><th scope=col>term</th><th scope=col>int_rate</th><th scope=col>installment</th><th scope=col>grade</th><th scope=col>sub_grade</th><th scope=col>emp_length</th><th scope=col>home_ownership</th><th scope=col>annual_inc</th><th scope=col>verification_status</th><th scope=col>issue_d</th><th scope=col>loan_status</th><th scope=col>purpose</th><th scope=col>addr_state</th><th scope=col>dti</th><th scope=col>delinq_2yrs</th><th scope=col>inq_last_6mths</th></tr></thead>\n",
       "<tbody>\n",
       "\t<tr><th scope=row>6091</th><td>35000          </td><td>35000          </td><td>34875          </td><td> 60 months     </td><td>22.35          </td><td>973.64         </td><td>F              </td><td>F5             </td><td>1 year         </td><td>MORTGAGE       </td><td>340000         </td><td>Source Verified</td><td>11-Oct         </td><td>Current        </td><td>credit_card    </td><td>IL             </td><td>3.6            </td><td>4              </td><td>0              </td></tr>\n",
       "\t<tr><th scope=row>3719</th><td>2500      </td><td>2500      </td><td>2500      </td><td> 36 months</td><td>6.62      </td><td>76.76     </td><td>A         </td><td>A2        </td><td>n/a       </td><td>RENT      </td><td>61200     </td><td>Verified  </td><td>11-Nov    </td><td>Fully Paid</td><td>other     </td><td>AZ        </td><td>26.12     </td><td>0         </td><td>1         </td></tr>\n",
       "</tbody>\n",
       "</table>\n"
      ],
      "text/latex": [
       "\\begin{tabular}{r|lllllllllllllllllll}\n",
       "  & loan\\_amnt & funded\\_amnt & funded\\_amnt\\_inv & term & int\\_rate & installment & grade & sub\\_grade & emp\\_length & home\\_ownership & annual\\_inc & verification\\_status & issue\\_d & loan\\_status & purpose & addr\\_state & dti & delinq\\_2yrs & inq\\_last\\_6mths\\\\\n",
       "\\hline\n",
       "\t6091 & 35000           & 35000           & 34875           &  60 months      & 22.35           & 973.64          & F               & F5              & 1 year          & MORTGAGE        & 340000          & Source Verified & 11-Oct          & Current         & credit\\_card   & IL              & 3.6             & 4               & 0              \\\\\n",
       "\t3719 & 2500       & 2500       & 2500       &  36 months & 6.62       & 76.76      & A          & A2         & n/a        & RENT       & 61200      & Verified   & 11-Nov     & Fully Paid & other      & AZ         & 26.12      & 0          & 1         \\\\\n",
       "\\end{tabular}\n"
      ],
      "text/plain": [
       "     loan_amnt funded_amnt funded_amnt_inv       term int_rate installment\n",
       "6091     35000       35000           34875  60 months    22.35      973.64\n",
       "3719      2500        2500            2500  36 months     6.62       76.76\n",
       "     grade sub_grade emp_length home_ownership annual_inc verification_status\n",
       "6091     F        F5     1 year       MORTGAGE     340000     Source Verified\n",
       "3719     A        A2        n/a           RENT      61200            Verified\n",
       "     issue_d loan_status     purpose addr_state   dti delinq_2yrs\n",
       "6091  11-Oct     Current credit_card         IL  3.60           4\n",
       "3719  11-Nov  Fully Paid       other         AZ 26.12           0\n",
       "     inq_last_6mths\n",
       "6091              0\n",
       "3719              1"
      ]
     },
     "metadata": {},
     "output_type": "display_data"
    }
   ],
   "source": [
    "## Step 2-3 Outputting most dissimilar pair\n",
    "LendingClubLoan_Clustering[\n",
    "  which(gower_mat == max(gower_mat[gower_mat != max(gower_mat)]),\n",
    "        arr.ind = TRUE)[1, ], ]"
   ]
  },
  {
   "cell_type": "markdown",
   "metadata": {},
   "source": [
    "### Step 3 Selecting number of clusters "
   ]
  },
  {
   "cell_type": "code",
   "execution_count": 5,
   "metadata": {
    "collapsed": false
   },
   "outputs": [
    {
     "data": {
      "image/png": "[encoded data removed]",
      "text/plain": [
       "plot without title"
      ]
     },
     "metadata": {},
     "output_type": "display_data"
    }
   ],
   "source": [
    "### Step 3 Selecting number of clusters \n",
    "sil_width <- c(NA)\n",
    "\n",
    "for(i in 2:10){\n",
    "  pam_fit <- pam(gower_dist,\n",
    "                 diss = TRUE,\n",
    "                 k = i)\n",
    "  \n",
    "  sil_width[i] <- pam_fit$silinfo$avg.width\n",
    "}\n",
    "\n",
    "# Plot sihouette width (higher is better, based on the result, 3  clusters yeil the highest value)\n",
    "plot(1:10, sil_width,\n",
    "     xlab = \"Number of clusters\",\n",
    "     ylab = \"Silhouette Width\")\n",
    "lines(1:10, sil_width)"
   ]
  },
  {
   "cell_type": "markdown",
   "metadata": {},
   "source": [
    "### Step 4 Partitioning around medoids (PAM) "
   ]
  },
  {
   "cell_type": "markdown",
   "metadata": {},
   "source": [
    "#### Step 4-1 Summary of clustering ruselts"
   ]
  },
  {
   "cell_type": "code",
   "execution_count": 4,
   "metadata": {
    "collapsed": false
   },
   "outputs": [
    {
     "data": {
      "text/plain": [
       "[[1]]\n",
       "   loan_amnt             term         int_rate      installment      grade   \n",
       " Min.   : 1000    36 months:1388   Min.   : 5.42   Min.   :  30.16   A:1050  \n",
       " 1st Qu.: 5500    60 months: 111   1st Qu.: 6.62   1st Qu.: 172.48   B: 193  \n",
       " Median : 9500                     Median : 7.90   Median : 281.62   C:  90  \n",
       " Mean   :10610                     Mean   : 9.33   Mean   : 329.59   D: 110  \n",
       " 3rd Qu.:14000                     3rd Qu.:10.65   3rd Qu.: 424.73   E:  45  \n",
       " Max.   :35000                     Max.   :23.91   Max.   :1283.50   F:   9  \n",
       "                                                                     G:   2  \n",
       "   sub_grade       emp_length   home_ownership   annual_inc    \n",
       " A4     :284   10+ years:450   MORTGAGE:964    Min.   : 10080  \n",
       " A1     :262   < 1 year :151   OWN     :125    1st Qu.: 43154  \n",
       " A2     :193   2 years  :136   RENT    :410    Median : 60000  \n",
       " A5     :170   5 years  :128                   Mean   : 71548  \n",
       " A3     :141   3 years  :121                   3rd Qu.: 85000  \n",
       " B2     : 53   4 years  :112                   Max.   :500000  \n",
       " (Other):396   (Other)  :401                                   \n",
       "      verification_status   issue_d                  purpose      addr_state \n",
       " Not Verified   :424      11-Aug:199   debt_consolidation:660   TX     :192  \n",
       " Source Verified:763      11-Dec:453   credit_card       :250   CA     :159  \n",
       " Verified       :312      11-Nov:235   other             :129   NY     :136  \n",
       "                          11-Oct:300   home_improvement  :126   FL     :120  \n",
       "                          11-Sep:312   major_purchase    : 77   NJ     : 61  \n",
       "                                       car               : 67   NC     : 57  \n",
       "                                       (Other)           :190   (Other):774  \n",
       "      dti         delinq_2yrs     inq_last_6mths      cluster \n",
       " Min.   : 0.00   Min.   :0.0000   Min.   :0.0000   Min.   :1  \n",
       " 1st Qu.: 6.67   1st Qu.:0.0000   1st Qu.:0.0000   1st Qu.:1  \n",
       " Median :11.52   Median :0.0000   Median :0.0000   Median :1  \n",
       " Mean   :12.23   Mean   :0.1054   Mean   :0.6825   Mean   :1  \n",
       " 3rd Qu.:17.08   3rd Qu.:0.0000   3rd Qu.:1.0000   3rd Qu.:1  \n",
       " Max.   :29.85   Max.   :4.0000   Max.   :6.0000   Max.   :1  \n",
       "                                                              \n",
       "\n",
       "[[2]]\n",
       "   loan_amnt             term         int_rate      installment      grade  \n",
       " Min.   : 1000    36 months: 360   Min.   : 6.62   Min.   :  22.24   A: 50  \n",
       " 1st Qu.:12000    60 months:1306   1st Qu.:12.99   1st Qu.: 317.33   B:353  \n",
       " Median :18250                     Median :14.79   Median : 458.96   C:570  \n",
       " Mean   :18965                     Mean   :15.47   Mean   : 485.27   D:278  \n",
       " 3rd Qu.:25000                     3rd Qu.:18.25   3rd Qu.: 625.36   E:263  \n",
       " Max.   :35000                     Max.   :24.11   Max.   :1288.10   F:119  \n",
       "                                                                     G: 33  \n",
       "   sub_grade       emp_length   home_ownership   annual_inc    \n",
       " C1     :198   10+ years:591   MORTGAGE:1052   Min.   : 17000  \n",
       " C2     :141   4 years  :149   OWN     : 112   1st Qu.: 52000  \n",
       " B5     :104   3 years  :142   RENT    : 502   Median : 70810  \n",
       " B4     : 96   2 years  :128                   Mean   : 83956  \n",
       " C3     : 86   6 years  :125                   3rd Qu.: 98000  \n",
       " D2     : 76   < 1 year :115                   Max.   :900000  \n",
       " (Other):965   (Other)  :416                                   \n",
       "      verification_status   issue_d                  purpose      addr_state \n",
       " Not Verified   : 148     11-Aug:222   debt_consolidation:960   CA     :323  \n",
       " Source Verified: 316     11-Dec:334   credit_card       :219   NY     :125  \n",
       " Verified       :1202     11-Nov:294   other             :122   FL     :114  \n",
       "                          11-Oct:485   home_improvement  :117   TX     : 90  \n",
       "                          11-Sep:331   small_business    : 98   VA     : 78  \n",
       "                                       medical           : 31   NJ     : 74  \n",
       "                                       (Other)           :119   (Other):862  \n",
       "      dti         delinq_2yrs     inq_last_6mths     cluster \n",
       " Min.   : 0.00   Min.   :0.0000   Min.   :0.000   Min.   :2  \n",
       " 1st Qu.: 9.92   1st Qu.:0.0000   1st Qu.:0.000   1st Qu.:2  \n",
       " Median :14.68   Median :0.0000   Median :1.000   Median :2  \n",
       " Mean   :14.76   Mean   :0.1663   Mean   :1.032   Mean   :2  \n",
       " 3rd Qu.:19.95   3rd Qu.:0.0000   3rd Qu.:2.000   3rd Qu.:2  \n",
       " Max.   :29.83   Max.   :5.0000   Max.   :8.000   Max.   :2  \n",
       "                                                             \n",
       "\n",
       "[[3]]\n",
       "   loan_amnt             term         int_rate      installment     grade   \n",
       " Min.   : 1000    36 months:1592   Min.   : 5.42   Min.   :  31.3   A: 275  \n",
       " 1st Qu.: 5000    60 months: 243   1st Qu.:10.59   1st Qu.: 162.7   B:1025  \n",
       " Median : 8000                     Median :11.71   Median : 256.7   C: 251  \n",
       " Mean   : 9261                     Mean   :12.23   Mean   : 289.1   D: 205  \n",
       " 3rd Qu.:12000                     3rd Qu.:13.99   3rd Qu.: 373.3   E:  59  \n",
       " Max.   :35000                     Max.   :23.91   Max.   :1276.6   F:  17  \n",
       "                                                                    G:   3  \n",
       "   sub_grade       emp_length   home_ownership   annual_inc    \n",
       " B3     :328   1 year   :241   MORTGAGE: 311   Min.   :  9600  \n",
       " B5     :199   2 years  :234   OWN     : 132   1st Qu.: 36000  \n",
       " B4     :177   10+ years:228   RENT    :1392   Median : 50400  \n",
       " B1     :171   3 years  :204                   Mean   : 57790  \n",
       " B2     :150   4 years  :180                   3rd Qu.: 70000  \n",
       " A4     :109   5 years  :176                   Max.   :300000  \n",
       " (Other):701   (Other)  :572                                   \n",
       "      verification_status   issue_d                  purpose      addr_state \n",
       " Not Verified   :935      11-Aug:267   debt_consolidation:956   CA     :448  \n",
       " Source Verified:472      11-Dec:332   credit_card       :306   NY     :204  \n",
       " Verified       :428      11-Nov:607   other             :183   FL     :140  \n",
       "                          11-Oct:256   major_purchase    : 68   NJ     : 95  \n",
       "                          11-Sep:373   small_business    : 66   TX     : 84  \n",
       "                                       home_improvement  : 51   IL     : 76  \n",
       "                                       (Other)           :205   (Other):788  \n",
       "      dti          delinq_2yrs     inq_last_6mths     cluster \n",
       " Min.   : 0.000   Min.   :0.0000   Min.   :0.000   Min.   :3  \n",
       " 1st Qu.: 9.705   1st Qu.:0.0000   1st Qu.:0.000   1st Qu.:3  \n",
       " Median :15.050   Median :0.0000   Median :0.000   Median :3  \n",
       " Mean   :14.472   Mean   :0.1482   Mean   :0.782   Mean   :3  \n",
       " 3rd Qu.:19.525   3rd Qu.:0.0000   3rd Qu.:1.000   3rd Qu.:3  \n",
       " Max.   :29.880   Max.   :4.0000   Max.   :6.000   Max.   :3  \n",
       "                                                              \n"
      ]
     },
     "metadata": {},
     "output_type": "display_data"
    }
   ],
   "source": [
    "### Step 4 Partitioning around medoids (PAM) \n",
    "## Step 4-1 Summary of clustering results\n",
    "pam_fit <- pam(gower_dist, diss = TRUE, k = 3)\n",
    "\n",
    "pam_results <- LendingClubLoan_Clustering %>%\n",
    "  mutate(cluster = pam_fit$clustering) %>%\n",
    "  group_by(cluster) %>%\n",
    "  do(the_summary = summary(.))\n",
    "\n",
    "pam_results$the_summary"
   ]
  },
  {
   "cell_type": "markdown",
   "metadata": {},
   "source": [
    "#### Step 4-2 Center medoid of each cluster"
   ]
  },
  {
   "cell_type": "code",
   "execution_count": 10,
   "metadata": {
    "collapsed": false,
    "scrolled": true
   },
   "outputs": [
    {
     "data": {
      "text/html": [
       "<table>\n",
       "<thead><tr><th></th><th scope=col>loan_amnt</th><th scope=col>funded_amnt</th><th scope=col>funded_amnt_inv</th><th scope=col>term</th><th scope=col>int_rate</th><th scope=col>installment</th><th scope=col>grade</th><th scope=col>sub_grade</th><th scope=col>emp_length</th><th scope=col>home_ownership</th><th scope=col>annual_inc</th><th scope=col>verification_status</th><th scope=col>issue_d</th><th scope=col>loan_status</th><th scope=col>purpose</th><th scope=col>addr_state</th><th scope=col>dti</th><th scope=col>delinq_2yrs</th><th scope=col>inq_last_6mths</th></tr></thead>\n",
       "<tbody>\n",
       "\t<tr><th scope=row>6289</th><td>7200              </td><td>7200              </td><td>6950              </td><td> 36 months        </td><td>7.9               </td><td>225.29            </td><td>A                 </td><td>A4                </td><td>10+ years         </td><td>RENT              </td><td>37200             </td><td>Source Verified   </td><td>11-Oct            </td><td>Fully Paid        </td><td>debt_consolidation</td><td>FL                </td><td>15.55             </td><td>0                 </td><td>0                 </td></tr>\n",
       "\t<tr><th scope=row>6000</th><td>19075             </td><td>19075             </td><td>19075             </td><td> 60 months        </td><td>13.49             </td><td>438.82            </td><td>C                 </td><td>C1                </td><td>10+ years         </td><td>MORTGAGE          </td><td>82776             </td><td>Verified          </td><td>11-Oct            </td><td>Fully Paid        </td><td>debt_consolidation</td><td>CA                </td><td>14.08             </td><td>0                 </td><td>1                 </td></tr>\n",
       "\t<tr><th scope=row>24</th><td>10000             </td><td>10000             </td><td>10000             </td><td> 36 months        </td><td>11.71             </td><td>330.76            </td><td>B                 </td><td>B3                </td><td>5 years           </td><td>RENT              </td><td>50000             </td><td>Not Verified      </td><td>11-Dec            </td><td>Fully Paid        </td><td>debt_consolidation</td><td>CA                </td><td>16.01             </td><td>0                 </td><td>0                 </td></tr>\n",
       "</tbody>\n",
       "</table>\n"
      ],
      "text/latex": [
       "\\begin{tabular}{r|lllllllllllllllllll}\n",
       "  & loan\\_amnt & funded\\_amnt & funded\\_amnt\\_inv & term & int\\_rate & installment & grade & sub\\_grade & emp\\_length & home\\_ownership & annual\\_inc & verification\\_status & issue\\_d & loan\\_status & purpose & addr\\_state & dti & delinq\\_2yrs & inq\\_last\\_6mths\\\\\n",
       "\\hline\n",
       "\t6289 & 7200                 & 7200                 & 6950                 &  36 months           & 7.9                  & 225.29               & A                    & A4                   & 10+ years            & RENT                 & 37200                & Source Verified      & 11-Oct               & Fully Paid           & debt\\_consolidation & FL                   & 15.55                & 0                    & 0                   \\\\\n",
       "\t6000 & 19075                & 19075                & 19075                &  60 months           & 13.49                & 438.82               & C                    & C1                   & 10+ years            & MORTGAGE             & 82776                & Verified             & 11-Oct               & Fully Paid           & debt\\_consolidation & CA                   & 14.08                & 0                    & 1                   \\\\\n",
       "\t24 & 10000                & 10000                & 10000                &  36 months           & 11.71                & 330.76               & B                    & B3                   & 5 years              & RENT                 & 50000                & Not Verified         & 11-Dec               & Fully Paid           & debt\\_consolidation & CA                   & 16.01                & 0                    & 0                   \\\\\n",
       "\\end{tabular}\n"
      ],
      "text/plain": [
       "     loan_amnt funded_amnt funded_amnt_inv       term int_rate installment\n",
       "6289      7200        7200            6950  36 months     7.90      225.29\n",
       "6000     19075       19075           19075  60 months    13.49      438.82\n",
       "24       10000       10000           10000  36 months    11.71      330.76\n",
       "     grade sub_grade emp_length home_ownership annual_inc verification_status\n",
       "6289     A        A4  10+ years           RENT      37200     Source Verified\n",
       "6000     C        C1  10+ years       MORTGAGE      82776            Verified\n",
       "24       B        B3    5 years           RENT      50000        Not Verified\n",
       "     issue_d loan_status            purpose addr_state   dti delinq_2yrs\n",
       "6289  11-Oct  Fully Paid debt_consolidation         FL 15.55           0\n",
       "6000  11-Oct  Fully Paid debt_consolidation         CA 14.08           0\n",
       "24    11-Dec  Fully Paid debt_consolidation         CA 16.01           0\n",
       "     inq_last_6mths\n",
       "6289              0\n",
       "6000              1\n",
       "24                0"
      ]
     },
     "metadata": {},
     "output_type": "display_data"
    }
   ],
   "source": [
    "## Step 4-2 Exemplars of each cluster\n",
    "LendingClubLoan_Clustering[pam_fit$medoids, ]"
   ]
  },
  {
   "cell_type": "markdown",
   "metadata": {},
   "source": [
    "#### Step 4-3 Visualization with reduced-dimension "
   ]
  },
  {
   "cell_type": "code",
   "execution_count": null,
   "metadata": {
    "collapsed": false
   },
   "outputs": [],
   "source": [
    "## Step 4-3 Visualization with reduced-dimension \n",
    "tsne_obj <- Rtsne(gower_dist, is_distance = TRUE)\n",
    "\n",
    "tsne_data <- tsne_obj$Y %>%\n",
    "  data.frame() %>%\n",
    "  setNames(c(\"X\", \"Y\")) %>%\n",
    "  mutate(cluster = factor(pam_fit$clustering))\n",
    "\n",
    "ggplot(aes(x = X, y = Y), data = tsne_data) +\n",
    "  geom_point(aes(color = cluster)) +\n",
    "  ggtitle(\"Clusters on reduced-dimension\")"
   ]
  },
  {
   "cell_type": "markdown",
   "metadata": {},
   "source": [
    "#### Step 4-4 Plotting clusters over two variables"
   ]
  },
  {
   "cell_type": "code",
   "execution_count": 8,
   "metadata": {
    "collapsed": false
   },
   "outputs": [
    {
     "data": {},
     "metadata": {},
     "output_type": "display_data"
    },
    {
     "data": {},
     "metadata": {},
     "output_type": "display_data"
    },
    {
     "data": {
      "image/png": "[encoded data removed]",
      "text/plain": [
       "plot without title"
      ]
     },
     "metadata": {},
     "output_type": "display_data"
    },
    {
     "data": {
      "image/png": "[encoded data removed]",
      "text/plain": [
       "plot without title"
      ]
     },
     "metadata": {},
     "output_type": "display_data"
    }
   ],
   "source": [
    "## Step 4-4 Plotting clusters over two variables\n",
    "Clustering <- LendingClubLoan_Clustering %>%\n",
    "  mutate(Cluster = pam_fit$clustering)\n",
    "\n",
    "ggplot(aes(x = loan_amnt, y = grade), data = Clustering) +\n",
    "  geom_point(aes(color = factor(Cluster))) +\n",
    "  ggtitle(\"Clusters on two variables\")\n",
    "\n",
    "ggplot(aes(x = loan_amnt, y = int_rate), data = Clustering) + \n",
    "  geom_point(aes(color = factor(Cluster))) +\n",
    "  ggtitle(\"Clusters on two variables\")"
   ]
  },
  {
   "cell_type": "markdown",
   "metadata": {},
   "source": [
    "### Step 5 Agglomerative hierarchical clustering"
   ]
  },
  {
   "cell_type": "markdown",
   "metadata": {},
   "source": [
    "#### Step 5-1 Computes agglomerative hierarchical clustering"
   ]
  },
  {
   "cell_type": "code",
   "execution_count": null,
   "metadata": {
    "collapsed": true
   },
   "outputs": [],
   "source": [
    "### Step 5 Agglomerative hierarchical clustering\n",
    "## Step 5-1 Computes agglomerative hierarchical clustering\n",
    "agn <- agnes(gower_dist, metric = \"manhattan\", stand = FALSE)\n",
    "\n",
    "plot(agn1, main= \"Hierarchical clustering\")"
   ]
  },
  {
   "cell_type": "markdown",
   "metadata": {},
   "source": [
    "#### Step 5-2 Visualization on reduced-dimension "
   ]
  },
  {
   "cell_type": "code",
   "execution_count": null,
   "metadata": {
    "collapsed": true
   },
   "outputs": [],
   "source": [
    "## Step 5-2 Visualization on reduced-dimension \n",
    "HierarchicalCluster <- LendingClubLoan_Clustering %>%\n",
    "  mutate(Cluster=cutree(agn1,2))\n",
    "\n",
    "tsne_obj <- Rtsne(gower_dist, is_distance = TRUE)\n",
    "\n",
    "tsne_data <- tsne_obj$Y %>%\n",
    "  data.frame() %>%\n",
    "  setNames(c(\"X\", \"Y\")) %>%\n",
    "  mutate(cluster = factor(cutree(agn1,2)))\n",
    "\n",
    "ggplot(aes(x = X, y = Y), data = tsne_data) +\n",
    "  geom_point(aes(color = cluster)) +\n",
    "  ggtitle(\"Clusters on reduced-dimension Plot\")"
   ]
  },
  {
   "cell_type": "markdown",
   "metadata": {},
   "source": [
    "#### Step 5-3 Visualization on two variables"
   ]
  },
  {
   "cell_type": "code",
   "execution_count": null,
   "metadata": {
    "collapsed": true
   },
   "outputs": [],
   "source": [
    "## Step 5-3 Visualization on two variables\n",
    "ggplot(aes(x = loan_amnt, y = grade), data = HierarchicalCluster) +\n",
    "  geom_point(aes(color = factor(Cluster))) +\n",
    "  ggtitle(\"Clusters on two variables\")\n",
    "\n",
    "ggplot(aes(x = loan_amnt, y = int_rate), data = HierarchicalCluster) + \n",
    "  geom_point(aes(color = factor(Cluster))) +\n",
    "  ggtitle(\"Clusters on two variables\")"
   ]
  }
 ],
 "metadata": {
  "kernelspec": {
   "display_name": "R",
   "language": "R",
   "name": "ir"
  },
  "language_info": {
   "codemirror_mode": "r",
   "file_extension": ".r",
   "mimetype": "text/x-r-source",
   "name": "R",
   "pygments_lexer": "r",
   "version": "3.2.5"
  }
 },
 "nbformat": 4,
 "nbformat_minor": 0
}
